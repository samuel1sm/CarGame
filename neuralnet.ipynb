{
 "cells": [
  {
   "cell_type": "code",
   "execution_count": 7,
   "metadata": {},
   "outputs": [],
   "source": [
    "import math\n",
    "import random\n",
    "import numpy as np\n",
    "import pandas as pd\n",
    "import tensorflow as tf\n",
    "import tensorflow.keras as keras\n",
    "\n",
    "from collections import deque"
   ]
  },
  {
   "cell_type": "code",
   "execution_count": 127,
   "metadata": {},
   "outputs": [],
   "source": [
    "class CarAi():\n",
    "    def __init__(self, inputs_size, model_name = \"CarAi\"):\n",
    "        self.inputs_size = inputs_size\n",
    "        self.model_name = model_name\n",
    "        self.final_position = (400,400)\n",
    "        self.model = self.model_builder()\n",
    "\n",
    "\n",
    "    def model_builder(self):\n",
    "        model = keras.Sequential()\n",
    "        model.add(keras.layers.Dense(units=4, activation=\"tanh\", input_dim = (5)))\n",
    "        model.add(keras.layers.Dense(units=3, activation=\"tanh\"))\n",
    "        model.add(keras.layers.Dense(units=2, activation=\"tanh\"))\n",
    "        model.compile(loss='mse', optimizer=tf.keras.optimizers.Adam(lr=0.001))\n",
    "        return model\n",
    "\n",
    "    def car_train(self, state):\n",
    "        \n",
    "\n"
   ]
  },
  {
   "cell_type": "code",
   "execution_count": 87,
   "metadata": {},
   "outputs": [],
   "source": [
    "\n",
    "randnums = [ np.array([np.random.randint(0,31,5)]) for _ in range(1000)]\n"
   ]
  },
  {
   "cell_type": "code",
   "execution_count": 126,
   "metadata": {},
   "outputs": [
    {
     "output_type": "execute_result",
     "data": {
      "text/plain": "array([[1.3392949, 0.       ]], dtype=float32)"
     },
     "metadata": {},
     "execution_count": 126
    }
   ],
   "source": [
    "\n",
    "a = model.predict(randnums[random.randrange(0,1000)])\n",
    "a"
   ]
  },
  {
   "cell_type": "code",
   "execution_count": null,
   "metadata": {},
   "outputs": [],
   "source": []
  }
 ],
 "metadata": {
  "language_info": {
   "codemirror_mode": {
    "name": "ipython",
    "version": 3
   },
   "file_extension": ".py",
   "mimetype": "text/x-python",
   "name": "python",
   "nbconvert_exporter": "python",
   "pygments_lexer": "ipython3",
   "version": "3.7.7-final"
  },
  "orig_nbformat": 2,
  "kernelspec": {
   "name": "python3",
   "display_name": "Python 3"
  }
 },
 "nbformat": 4,
 "nbformat_minor": 2
}